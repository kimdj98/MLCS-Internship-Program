{
 "cells": [
  {
   "attachments": {},
   "cell_type": "markdown",
   "metadata": {},
   "source": [
    "# Basic Python Programming 004 Custom Dataset"
   ]
  },
  {
   "cell_type": "code",
   "execution_count": 4,
   "metadata": {},
   "outputs": [],
   "source": [
    "import os, glob\n",
    "import numpy as np\n",
    "import matplotlib.pyplot as plt\n",
    "import pandas as pd\n",
    "import cv2\n",
    "from PIL import Image\n",
    "from numpy import asarray"
   ]
  },
  {
   "attachments": {},
   "cell_type": "markdown",
   "metadata": {},
   "source": [
    "#### custom dataset for image classification\n",
    "Chest X-RAY-images (Pneumonia classification) (dataset from https://www.kaggle.com/datasets/paultimothymooney/chest-xray-pneumonia)"
   ]
  },
  {
   "attachments": {},
   "cell_type": "markdown",
   "metadata": {},
   "source": [
    "1. class Dataset: Use dataset class to store data with preprocessing (options: normalize, shuffle)\n",
    "2. class Dataloader: load dataset in numpy array with batch_size"
   ]
  },
  {
   "cell_type": "code",
   "execution_count": 5,
   "metadata": {},
   "outputs": [
    {
     "data": {
      "text/plain": [
       "['PNEUMONIA', 'NORMAL']"
      ]
     },
     "execution_count": 5,
     "metadata": {},
     "output_type": "execute_result"
    }
   ],
   "source": [
    "os.listdir('chest_xray/train')"
   ]
  },
  {
   "cell_type": "code",
   "execution_count": 6,
   "metadata": {},
   "outputs": [
    {
     "name": "stdout",
     "output_type": "stream",
     "text": [
      "PNEUMONIA\n",
      "NORMAL\n",
      "0\n"
     ]
    }
   ],
   "source": [
    "labels = os.listdir('chest_xray/train/')\n",
    "for label in labels:\n",
    "    print(label)\n",
    "    globals()[label]=0\n",
    "\n",
    "print(NORMAL)"
   ]
  },
  {
   "cell_type": "code",
   "execution_count": 7,
   "metadata": {},
   "outputs": [],
   "source": [
    "img = Image.open(\"chest_xray/train/NORMAL/IM-0280-0001.jpeg\")\n",
    "img = img.resize((1200,900))\n",
    "img.save('temp.jpg')\n",
    "img = asarray(img)"
   ]
  },
  {
   "cell_type": "code",
   "execution_count": null,
   "metadata": {},
   "outputs": [],
   "source": []
  },
  {
   "cell_type": "code",
   "execution_count": 8,
   "metadata": {},
   "outputs": [
    {
     "data": {
      "text/plain": [
       "(900, 1200)"
      ]
     },
     "execution_count": 8,
     "metadata": {},
     "output_type": "execute_result"
    }
   ],
   "source": [
    "img.shape"
   ]
  },
  {
   "cell_type": "code",
   "execution_count": 46,
   "metadata": {},
   "outputs": [],
   "source": [
    "from typing import Any, Callable, Iterable, TypeVar, Generic, Sequence, List, Optional, Union\n",
    "\n",
    "class DataLoader():\n",
    "    def __init__(self, PATH,\n",
    "                 batch_size:Optional[int]=1,\n",
    "                 normalize:Optional[bool]=False,\n",
    "                 shuffle:Optional[bool]=False,\n",
    "                 get_statistics:Optional[bool]=False # to get mean and standard deviation of datas\n",
    "                 ):\n",
    "\n",
    "        # get NORMAL and PNEUMONIA folder path\n",
    "        self.NORMAL_PATH = os.path.join(PATH, \"NORMAL\")\n",
    "        self.PNEUMONIA_PATH = os.path.join(PATH, \"PNEUMONIA\")\n",
    "        # get paths for normal images and pneumonia images\n",
    "        self.NORMAL_PATHS = glob.glob(os.path.join(self.NORMAL_PATH, \"*.jpeg\"))\n",
    "        self.PNEUMONIA_PATHS = glob.glob(os.path.join(self.PNEUMONIA_PATH, \"*.jpeg\"))\n",
    "        # concatenate images path and make label datas \n",
    "        self.images_path = self.NORMAL_PATHS + self.PNEUMONIA_PATHS\n",
    "        self.labels = [0] * len(self.NORMAL_PATHS) + [1] * len(self.PNEUMONIA_PATHS)\n",
    "        \n",
    "        # zip images_path and labels for shuffling\n",
    "        self.datas = list(zip(self.images_path, self.labels))\n",
    "\n",
    "        self.normalize_flag = normalize\n",
    "            \n",
    "        if shuffle:\n",
    "            self.datas = shuffle(self.datas)\n",
    "\n",
    "        if get_statistics:\n",
    "            self.mu = 0.0\n",
    "            self.sd = 0.0\n",
    "\n",
    "            for i, (image_path, label) in enumerate(self.datas):\n",
    "                image = Image.open(image_path)\n",
    "                image = image.resize((1200,900))\n",
    "                image = np.asarray(image)\n",
    "                self.mu += np.sum(image)\n",
    "\n",
    "            self.mu /= ((i+1)*1200*90)\n",
    "            print(self.mu)\n",
    "\n",
    "    def normalize(self, img_path):\n",
    "        pass\n",
    "\n",
    "    def load(self, batch_size):\n",
    "        pass\n"
   ]
  },
  {
   "cell_type": "code",
   "execution_count": 47,
   "metadata": {},
   "outputs": [
    {
     "name": "stdout",
     "output_type": "stream",
     "text": [
      "1341.1327180768071\n"
     ]
    }
   ],
   "source": [
    "train_loader = DataLoader(PATH=\"chest_xray/train\", normalize=True)"
   ]
  },
  {
   "cell_type": "code",
   "execution_count": 21,
   "metadata": {},
   "outputs": [
    {
     "name": "stdout",
     "output_type": "stream",
     "text": [
      "1341\n",
      "2101\n",
      "3442\n"
     ]
    }
   ],
   "source": [
    "print(len(train_loader.NORMAL_PATHS))\n",
    "print(len(train_loader.PNEUMONIA_PATHS))\n",
    "print(len(train_loader.labels))"
   ]
  },
  {
   "cell_type": "code",
   "execution_count": null,
   "metadata": {},
   "outputs": [],
   "source": []
  },
  {
   "cell_type": "code",
   "execution_count": 35,
   "metadata": {},
   "outputs": [
    {
     "ename": "NameError",
     "evalue": "name 'image' is not defined",
     "output_type": "error",
     "traceback": [
      "\u001b[0;31m---------------------------------------------------------------------------\u001b[0m",
      "\u001b[0;31mNameError\u001b[0m                                 Traceback (most recent call last)",
      "\u001b[0;32m/tmp/ipykernel_10852/3796147353.py\u001b[0m in \u001b[0;36m<module>\u001b[0;34m\u001b[0m\n\u001b[0;32m----> 1\u001b[0;31m \u001b[0mimage\u001b[0m\u001b[0;34m.\u001b[0m\u001b[0msize\u001b[0m\u001b[0;34m\u001b[0m\u001b[0;34m\u001b[0m\u001b[0m\n\u001b[0m",
      "\u001b[0;31mNameError\u001b[0m: name 'image' is not defined"
     ]
    }
   ],
   "source": [
    "train_loader"
   ]
  },
  {
   "cell_type": "code",
   "execution_count": null,
   "metadata": {},
   "outputs": [],
   "source": []
  }
 ],
 "metadata": {
  "kernelspec": {
   "display_name": "base",
   "language": "python",
   "name": "python3"
  },
  "language_info": {
   "codemirror_mode": {
    "name": "ipython",
    "version": 3
   },
   "file_extension": ".py",
   "mimetype": "text/x-python",
   "name": "python",
   "nbconvert_exporter": "python",
   "pygments_lexer": "ipython3",
   "version": "3.9.13"
  },
  "orig_nbformat": 4,
  "vscode": {
   "interpreter": {
    "hash": "22c407d320e2b0b38c16c09dadf041ca20daf27f3015d3cd87bfe269bdb131e9"
   }
  }
 },
 "nbformat": 4,
 "nbformat_minor": 2
}
