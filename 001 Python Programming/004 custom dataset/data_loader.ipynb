{
 "cells": [
  {
   "attachments": {},
   "cell_type": "markdown",
   "metadata": {},
   "source": [
    "# Basic Python Programming 004 Custom Dataset"
   ]
  },
  {
   "cell_type": "code",
   "execution_count": 70,
   "metadata": {},
   "outputs": [],
   "source": [
    "import os, glob\n",
    "import random\n",
    "\n",
    "import numpy as np\n",
    "import matplotlib.pyplot as plt\n",
    "import pandas as pd\n",
    "import cv2\n",
    "from PIL import Image\n",
    "from numpy import asarray"
   ]
  },
  {
   "attachments": {},
   "cell_type": "markdown",
   "metadata": {},
   "source": [
    "#### custom dataset for image classification\n",
    "Chest X-RAY-images (Pneumonia classification) (dataset from https://www.kaggle.com/datasets/paultimothymooney/chest-xray-pneumonia)"
   ]
  },
  {
   "cell_type": "code",
   "execution_count": 71,
   "metadata": {},
   "outputs": [],
   "source": [
    "from typing import Any, Callable, Iterable, TypeVar, Generic, Sequence, List, Optional, Union\n",
    "\n",
    "class DataLoader():\n",
    "    def __init__(self, PATH,\n",
    "                 batch_size:Optional[int]=64,\n",
    "                 normalize:Optional[bool]=False,\n",
    "                 shuffle:Optional[bool]=False,\n",
    "                 get_statistics:Optional[bool]=False, # to get mean and standard deviation of datas\n",
    "                 mu:Optional[float]=0.0,\n",
    "                 sd:Optional[float]=0.0,\n",
    "                 ):\n",
    "\n",
    "        # initialize data\n",
    "        self.batch_images = np.zeros((batch_size,900,1200))\n",
    "        self.batch_labels = np.zeros(batch_size)\n",
    "\n",
    "        # get NORMAL and PNEUMONIA folder path\n",
    "        self.NORMAL_PATH = os.path.join(PATH, \"NORMAL\")\n",
    "        self.PNEUMONIA_PATH = os.path.join(PATH, \"PNEUMONIA\")\n",
    "        # get paths for normal images and pneumonia images\n",
    "        self.NORMAL_PATHS = glob.glob(os.path.join(self.NORMAL_PATH, \"*.jpeg\"))\n",
    "        self.PNEUMONIA_PATHS = glob.glob(os.path.join(self.PNEUMONIA_PATH, \"*.jpeg\"))\n",
    "        # concatenate images path and make label datas \n",
    "        self.image_paths = self.NORMAL_PATHS + self.PNEUMONIA_PATHS\n",
    "        self.labels = [0] * len(self.NORMAL_PATHS) + [1] * len(self.PNEUMONIA_PATHS)\n",
    "        \n",
    "        # zip image_paths and labels for shuffling\n",
    "        self.datas = list(zip(self.image_paths, self.labels))\n",
    "        if shuffle:\n",
    "            random.shuffle(self.datas)\n",
    "        self.image_paths, self.labels = zip(*self.datas) # shuffled image paths and labels\n",
    "        \n",
    "        # convert image to array with batch_size\n",
    "        self.normalize_flag = normalize\n",
    "        self.mu = mu\n",
    "        self.sd = sd\n",
    "        for i in range(batch_size):\n",
    "            image = Image.open(self.image_paths[i]).convert(\"L\") # open image in grayscale\n",
    "            image = image.resize((1200,900))\n",
    "            image = np.asarray(image, dtype=np.float32)\n",
    "            image = self.normalize(image, mu, sd)\n",
    "            self.batch_images[i] = image\n",
    "            self.batch_labels[i] = self.labels[i]\n",
    "        \n",
    "        # save batch of numpy images to npz file\n",
    "        DATASET_PATH = \"./datasets/batch_data.npz\"\n",
    "        np.savez(DATASET_PATH,\n",
    "                batch_images = self.batch_images,\n",
    "                batch_labels = self.batch_labels)\n",
    "\n",
    "        # code to get mean and standard deviation of dataset        \n",
    "        if get_statistics:\n",
    "            self.mu = 0.0\n",
    "            self.mu_squared = 0.0\n",
    "            self.sd = 0.0\n",
    "\n",
    "            for i, (image_path, label) in enumerate(self.datas):\n",
    "                image = Image.open(image_path)\n",
    "                image = image.resize((1200,900))\n",
    "                image = np.asarray(image, dtype=np.float32)\n",
    "                self.mu += np.sum(image)\n",
    "                self.mu_squared += np.sum(np.square(image))\n",
    "\n",
    "            self.mu /= (i+1)*1200*900\n",
    "            self.mu_squared /= (i+1)*1200*900\n",
    "\n",
    "            self.sd = np.sqrt(self.mu_squared - self.mu * self.mu)\n",
    "            print(f\"mean: {self.mu:.4f}\")\n",
    "            print(f\"standard deviation: {self.sd:.4f}\")\n",
    "\n",
    "    def normalize(self, arr, mu, sd):\n",
    "        if self.normalize_flag:\n",
    "            arr -= mu\n",
    "            arr /= sd\n",
    "        return arr\n",
    "\n",
    "    def load(self):\n",
    "        d = np.load(\"./datasets/batch_data.npz\")\n",
    "        self.batch_images = d[\"batch_images\"]\n",
    "        self.batch_labels = d[\"batch_labels\"]\n"
   ]
  },
  {
   "cell_type": "code",
   "execution_count": 72,
   "metadata": {},
   "outputs": [],
   "source": [
    "data_loader = DataLoader(PATH=\"chest_xray/train\", normalize=True, shuffle=True, mu=134.11, sd=52.92)"
   ]
  },
  {
   "attachments": {},
   "cell_type": "markdown",
   "metadata": {},
   "source": [
    "Check shuffle works well"
   ]
  },
  {
   "cell_type": "code",
   "execution_count": 73,
   "metadata": {},
   "outputs": [
    {
     "name": "stdout",
     "output_type": "stream",
     "text": [
      "[1. 0. 0. 0. 0. 1. 0. 0. 0. 1. 0. 1. 1. 1. 0. 1. 1. 1. 0. 1. 1. 1. 1. 1.\n",
      " 0. 1. 0. 0. 0. 0. 1. 0. 0. 1. 1. 1. 0. 1. 0. 0. 1. 1. 1. 1. 1. 0. 1. 0.\n",
      " 0. 1. 0. 0. 0. 0. 1. 1. 1. 0. 1. 0. 1. 1. 0. 1.]\n"
     ]
    }
   ],
   "source": [
    "print(data_loader.batch_labels)"
   ]
  },
  {
   "attachments": {},
   "cell_type": "markdown",
   "metadata": {},
   "source": [
    "Check if data loader size is correct"
   ]
  },
  {
   "cell_type": "code",
   "execution_count": 74,
   "metadata": {},
   "outputs": [
    {
     "name": "stdout",
     "output_type": "stream",
     "text": [
      "(64, 900, 1200)\n",
      "(64,)\n"
     ]
    }
   ],
   "source": [
    "print(data_loader.batch_images.shape)\n",
    "print(data_loader.batch_labels.shape)"
   ]
  },
  {
   "attachments": {},
   "cell_type": "markdown",
   "metadata": {},
   "source": [
    "Check data loader load correctly"
   ]
  },
  {
   "cell_type": "code",
   "execution_count": 75,
   "metadata": {},
   "outputs": [],
   "source": [
    "data_loader.load()"
   ]
  },
  {
   "cell_type": "code",
   "execution_count": 76,
   "metadata": {},
   "outputs": [
    {
     "name": "stdout",
     "output_type": "stream",
     "text": [
      "(64, 900, 1200)\n",
      "(64,)\n"
     ]
    }
   ],
   "source": [
    "print(data_loader.batch_images.shape)\n",
    "print(data_loader.batch_labels.shape)"
   ]
  },
  {
   "attachments": {},
   "cell_type": "markdown",
   "metadata": {},
   "source": [
    "Get statistics(mean and standard deviation)"
   ]
  },
  {
   "cell_type": "code",
   "execution_count": 77,
   "metadata": {},
   "outputs": [],
   "source": [
    "train_loader = DataLoader(PATH=\"chest_xray/train\", get_statistics=True)"
   ]
  },
  {
   "attachments": {},
   "cell_type": "markdown",
   "metadata": {},
   "source": [
    "cf) debugging"
   ]
  },
  {
   "cell_type": "code",
   "execution_count": null,
   "metadata": {},
   "outputs": [
    {
     "name": "stdout",
     "output_type": "stream",
     "text": [
      "1341\n",
      "2101\n",
      "3442\n"
     ]
    }
   ],
   "source": [
    "print(len(train_loader.NORMAL_PATHS))\n",
    "print(len(train_loader.PNEUMONIA_PATHS))\n",
    "print(len(train_loader.labels))"
   ]
  }
 ],
 "metadata": {
  "kernelspec": {
   "display_name": "base",
   "language": "python",
   "name": "python3"
  },
  "language_info": {
   "codemirror_mode": {
    "name": "ipython",
    "version": 3
   },
   "file_extension": ".py",
   "mimetype": "text/x-python",
   "name": "python",
   "nbconvert_exporter": "python",
   "pygments_lexer": "ipython3",
   "version": "3.9.13"
  },
  "orig_nbformat": 4,
  "vscode": {
   "interpreter": {
    "hash": "22c407d320e2b0b38c16c09dadf041ca20daf27f3015d3cd87bfe269bdb131e9"
   }
  }
 },
 "nbformat": 4,
 "nbformat_minor": 2
}
