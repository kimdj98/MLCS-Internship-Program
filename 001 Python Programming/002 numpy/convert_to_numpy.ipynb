{
 "cells": [
  {
   "attachments": {},
   "cell_type": "markdown",
   "metadata": {},
   "source": [
    "## Basic Python Programming 002 numpy"
   ]
  },
  {
   "attachments": {},
   "cell_type": "markdown",
   "metadata": {},
   "source": [
    "#### Create an empty numpy array and fill in train datas"
   ]
  },
  {
   "cell_type": "code",
   "execution_count": 158,
   "metadata": {},
   "outputs": [],
   "source": [
    "import pdb # for debugging\n",
    "import os, glob\n",
    "import numpy as np\n",
    "import pandas as pd\n",
    "import csv\n",
    "\n",
    "path_to_train_2d_datasets = os.path.join('..','001 csv','outputs','train','*.csv')\n",
    "train_2d_files = glob.glob(path_to_train_2d_datasets)\n",
    "\n",
    "# We already know that the width and height of the 2D MNIST dataset is 28.\n",
    "train_datas = np.empty((len(train_2d_files),28,28))\n",
    "train_labels = np.empty((len(train_2d_files),1))\n",
    "\n",
    "for data_idx, data_path in enumerate(train_2d_files):\n",
    "    # Read the csv and replace the elements\n",
    "    # df = pd.read_csv(data_path)\n",
    "    train_labels[data_idx] = data_path[26]\n",
    "    with open(data_path, 'r') as csv_file:\n",
    "        reader = csv.reader(csv_file)\n",
    "        for i, row in enumerate(reader):\n",
    "            for j, item in enumerate(row):\n",
    "                train_datas[data_idx, i, j] = item"
   ]
  },
  {
   "cell_type": "code",
   "execution_count": 159,
   "metadata": {},
   "outputs": [
    {
     "name": "stdout",
     "output_type": "stream",
     "text": [
      "(60000, 1)\n",
      "(60000, 28, 28)\n"
     ]
    }
   ],
   "source": [
    "print(train_labels.shape)\n",
    "print(train_datas.shape)"
   ]
  },
  {
   "cell_type": "code",
   "execution_count": 160,
   "metadata": {},
   "outputs": [],
   "source": [
    "path_to_test_2d_datasets = os.path.join('..','001 csv','outputs','test','*.csv')\n",
    "test_2d_files = glob.glob(path_to_test_2d_datasets)\n",
    "\n",
    "# We already know that the width and height of the 2D MNIST dataset is 28.\n",
    "test_datas = np.empty((len(test_2d_files),28,28))\n",
    "test_labels = np.empty((len(test_2d_files),1))\n",
    "\n",
    "for data_idx, data_path in enumerate(test_2d_files):\n",
    "    # Read the csv and replace the elements\n",
    "    # df = pd.read_csv(data_path)\n",
    "    test_labels[data_idx] = data_path[25]\n",
    "    with open(data_path, 'r') as csv_file:\n",
    "        reader = csv.reader(csv_file)\n",
    "        for i, row in enumerate(reader):\n",
    "            for j, item in enumerate(row):\n",
    "                test_datas[data_idx, i, j] = item"
   ]
  },
  {
   "cell_type": "code",
   "execution_count": 161,
   "metadata": {},
   "outputs": [
    {
     "name": "stdout",
     "output_type": "stream",
     "text": [
      "(10000, 1)\n",
      "(10000, 28, 28)\n"
     ]
    }
   ],
   "source": [
    "print(test_labels.shape)\n",
    "print(test_datas.shape)"
   ]
  },
  {
   "attachments": {},
   "cell_type": "markdown",
   "metadata": {},
   "source": [
    "#### concatenate train and test datas"
   ]
  },
  {
   "cell_type": "code",
   "execution_count": 162,
   "metadata": {},
   "outputs": [],
   "source": [
    "datas = np.concatenate((train_datas, test_datas), axis = 0)\n",
    "labels = np.concatenate((train_labels, test_labels), axis = 0)\n",
    "\n",
    "# shuffle datas and labels in same order\n",
    "def unison_shuffled_copies(a, b):\n",
    "    assert len(a) == len(b)\n",
    "    p = np.random.permutation(len(a))\n",
    "    return a[p], b[p]\n",
    "\n",
    "unison_shuffled_copies(datas, labels);"
   ]
  },
  {
   "attachments": {},
   "cell_type": "markdown",
   "metadata": {},
   "source": [
    "check whether label and data matches"
   ]
  },
  {
   "cell_type": "code",
   "execution_count": 163,
   "metadata": {},
   "outputs": [
    {
     "name": "stdout",
     "output_type": "stream",
     "text": [
      "9\n"
     ]
    },
    {
     "data": {
      "image/png": "[encoded data removed]",
      "text/plain": [
       "<Figure size 640x480 with 1 Axes>"
      ]
     },
     "metadata": {},
     "output_type": "display_data"
    }
   ],
   "source": [
    "import matplotlib.pyplot as plt\n",
    "plt.imshow(datas[1], cmap='gray');\n",
    "print(int(labels[1]))"
   ]
  },
  {
   "attachments": {},
   "cell_type": "markdown",
   "metadata": {},
   "source": [
    "#### Split the numpy array into train, validation, and test arrays. Each array has a raio of 7:2:1 resepectively."
   ]
  },
  {
   "cell_type": "code",
   "execution_count": 164,
   "metadata": {},
   "outputs": [],
   "source": [
    "train_X, valid_X, test_X, _ = np.split(datas, [70000*7//10,70000*9//10,70000*10//10], axis=0)\n",
    "train_y, valid_y, test_y, _ = np.split(labels, [70000*7//10,70000*9//10,70000*10//10], axis=0)"
   ]
  },
  {
   "cell_type": "code",
   "execution_count": 165,
   "metadata": {},
   "outputs": [
    {
     "name": "stdout",
     "output_type": "stream",
     "text": [
      "train_X: (49000, 28, 28)\n",
      "valid_X: (14000, 28, 28)\n",
      "test_X: (7000, 28, 28)\n",
      "train_y: (49000, 1)\n",
      "valid_y: (14000, 1)\n",
      "test_y: (7000, 1)\n"
     ]
    }
   ],
   "source": [
    "print('train_X:', train_X.shape)\n",
    "print('valid_X:', valid_X.shape)\n",
    "print('test_X:', test_X.shape)\n",
    "print('train_y:', train_y.shape)\n",
    "print('valid_y:', valid_y.shape)\n",
    "print('test_y:', test_y.shape)\n"
   ]
  },
  {
   "attachments": {},
   "cell_type": "markdown",
   "metadata": {},
   "source": [
    "#### Save and load files with npz"
   ]
  },
  {
   "cell_type": "code",
   "execution_count": 169,
   "metadata": {},
   "outputs": [],
   "source": [
    "path_to_save = os.path.join(\"train_X.npz\")\n",
    "np.savez(path_to_save, train_X=train_X)\n",
    "\n",
    "path_to_save = os.path.join(\"train_y.npz\")\n",
    "np.savez(path_to_save, train_y=train_y)\n",
    "\n",
    "path_to_save = os.path.join(\"valid_X.npz\")\n",
    "np.savez(path_to_save, valid_X=valid_X)\n",
    "\n",
    "path_to_save = os.path.join(\"valid_y.npz\")\n",
    "np.savez(path_to_save, valid_y=valid_y)\n",
    "\n",
    "path_to_save = os.path.join(\"test_X.npz\")\n",
    "np.savez(path_to_save, test_X=test_X)\n",
    "\n",
    "path_to_save = os.path.join(\"test_y.npz\")\n",
    "np.savez(path_to_save, test_y=test_y)"
   ]
  }
 ],
 "metadata": {
  "kernelspec": {
   "display_name": "base",
   "language": "python",
   "name": "python3"
  },
  "language_info": {
   "codemirror_mode": {
    "name": "ipython",
    "version": 3
   },
   "file_extension": ".py",
   "mimetype": "text/x-python",
   "name": "python",
   "nbconvert_exporter": "python",
   "pygments_lexer": "ipython3",
   "version": "3.9.13 (main, Aug 25 2022, 23:26:10) \n[GCC 11.2.0]"
  },
  "orig_nbformat": 4,
  "vscode": {
   "interpreter": {
    "hash": "22c407d320e2b0b38c16c09dadf041ca20daf27f3015d3cd87bfe269bdb131e9"
   }
  }
 },
 "nbformat": 4,
 "nbformat_minor": 2
}
